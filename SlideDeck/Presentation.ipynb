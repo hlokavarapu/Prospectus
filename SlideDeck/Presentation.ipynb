{
 "cells": [
  {
   "cell_type": "markdown",
   "metadata": {
    "hideOutput": true,
    "slideshow": {
     "slide_type": "slide"
    }
   },
   "source": [
    "# Reservoir modeling of deep carbon cycle\n",
    "## By Harsha Lokavarapu"
   ]
  },
  {
   "cell_type": "markdown",
   "metadata": {
    "slideshow": {
     "slide_type": "subslide"
    }
   },
   "source": [
    "## Reservoirs of Carbon\n",
    "\n",
    "<img style=\"float: center;\" src=\"Figures/carbon_reservoirs_and_pathways.svg\">\n",
    "\n",
    "Fig 1. An illustration of Earth's major carbon reservoirs and pathways. \n",
    "\n",
    "The estimated mass of carbon is shown in gigatons (1 Gt = 10$^{12}$ kg). "
   ]
  },
  {
   "cell_type": "markdown",
   "metadata": {
    "slideshow": {
     "slide_type": "subslide"
    }
   },
   "source": [
    "# Relative Abundances of Carbon\n",
    "\n",
    "<img style=\"float: center;\" src=\"Figures/relative_size_of_reservoirs.svg\">"
   ]
  },
  {
   "cell_type": "markdown",
   "metadata": {
    "slideshow": {
     "slide_type": "slide"
    }
   },
   "source": [
    "# Carbon reservoir model assumptions\n",
    "\n",
    "- We consider the evolution of carbon since the moon-forming giant impact to present day.\n",
    "\n",
    "- Earth is a closed system. Total mass of carbon remains constant over time.\n",
    "\n",
    "- The core is an isolated reservoir.\n",
    "\n",
    "- Mantle carbon concentration is uniform.\n",
    "\n",
    "- Due to the reduction of rate of plate tectonics, we find that the rate of mass addition decays exponentially with the age of the Earth.\n",
    "\n",
    "\n"
   ]
  },
  {
   "cell_type": "code",
   "execution_count": 1,
   "metadata": {
    "hideCode": true,
    "hidePrompt": false,
    "slideshow": {
     "slide_type": "skip"
    }
   },
   "outputs": [],
   "source": [
    "from ipywidgets import widgets, IntSlider, Label, HBox, VBox, Button\n",
    "from IPython.display import display\n",
    "\n",
    "import matplotlib.pyplot as plt\n",
    "import numpy as np\n",
    "from sympy.abc import tau\n",
    "from sympy import latex\n",
    "import math"
   ]
  },
  {
   "cell_type": "code",
   "execution_count": 2,
   "metadata": {
    "hideCode": true,
    "hidePrompt": false,
    "slideshow": {
     "slide_type": "skip"
    }
   },
   "outputs": [],
   "source": [
    "def evolution_of_carbon_mantle(t, T_am, M_cmp, M_cccp, M_ca0):\n",
    "    M_cm = M_cmp + M_cccp - M_ca0 + (M_ca0 - M_cccp)*(1 - np.exp(-t/T_am))\n",
    "    return M_cm\n",
    "\n",
    "def evolution_ccc_initial(t,t_cc0):\n",
    "    M_ccc_initial = np.zeros(t[t<t_cc0].size)\n",
    "    return M_ccc_initial\n",
    "\n",
    "def evolution_of_carbon_continental_crust(t, t_cc0, T_acc, M_cccp):\n",
    "    M_ccc = M_cccp * (1-np.exp(-1 * (t[t>=t_cc0]-t_cc0)/(T_acc)))\n",
    "    return M_ccc\n",
    "\n",
    "def evolution_of_carbon_atmosphere_initial(t, t_cc0, T_ca, M_ca0, M_cccp):\n",
    "    M_ca_initial = M_ca0 - (M_ca0 - M_cccp)*(1 - np.exp(-t[t<t_cc0]/T_ca))\n",
    "    return M_ca_initial\n",
    "\n",
    "def evolution_of_carbon_atmosphere(t, t_cc0, T_acc, T_am, M_cmp, M_cccp, M_ca0):\n",
    "    M_ca = (M_ca0 - M_cccp)*(np.exp(-t[t>=t_cc0]/T_am)) + M_cccp * np.exp(-1 * (t[t>=t_cc0]-t_cc0)/(T_acc))\n",
    "    #M_ca = M_cmp - evolution_of_carbon_mantle(t[t>=t_cc0],T_am, M_cmp, M_cccp, M_ca0) + M_cccp - evolution_of_carbon_continental_crust(t[t>=t_cc0], t_cc0, T_acc, M_cccp)\n",
    "    return M_ca\n",
    "\n",
    "def time(tp):\n",
    "    return np.arange(0,tp,1e6)\n",
    "\n",
    "billion_years = 1e9\n",
    "gigaton = 1e8\n",
    "t = time(4.4e9)"
   ]
  },
  {
   "cell_type": "code",
   "execution_count": 3,
   "metadata": {
    "hideCode": true,
    "hidePrompt": false,
    "slideshow": {
     "slide_type": "skip"
    }
   },
   "outputs": [],
   "source": [
    "def reservoir_model(t, t_cc0, T_am, T_acc, M_cmp, M_cccp, M_ca0):\n",
    "    plt.close('all')\n",
    "#     plt.rc('text', usetex=True)\n",
    "    \n",
    "#     plt.figure(figsize=(8,6))\n",
    "    fig, (ax1) = plt.subplots(nrows=1,ncols=1,figsize=(14,9), sharex=False)\n",
    "        \n",
    "    lw = 4\n",
    "    fz_label=28\n",
    "    fz=26\n",
    "    \n",
    "    M_cm = evolution_of_carbon_mantle(t, T_am, M_cmp, M_cccp, M_ca0)\n",
    "    M_cm_line = ax1.plot(t/billion_years, M_cm/gigaton, linewidth=lw, color='orange')\n",
    "    plt.annotate('Mantle', xy=(0.05, 0.95), xytext=(t[-1]*0.75/billion_years, M_cm[-1]*0.92/gigaton), size=fz)\n",
    "    \n",
    "    M_ccc_initial = evolution_ccc_initial(t, t_cc0)\n",
    "    M_ccc = np.append(M_ccc_initial, evolution_of_carbon_continental_crust(t, t_cc0, T_acc, M_cccp))\n",
    "    M_ccc_line = ax1.plot(t/billion_years, M_ccc/gigaton, linewidth=lw, color='black')\n",
    "    plt.annotate('Continental Crust', xy=(0.05, 0.95), xytext=(t[-1]*0.65/billion_years, M_ccc[-1]*1.20/gigaton), size=fz)\n",
    "\n",
    "    \n",
    "    M_ca_initial = evolution_of_carbon_atmosphere_initial(t, t_cc0, T_am, M_ca0, M_cccp)\n",
    "    M_ca = np.append(M_ca_initial, evolution_of_carbon_atmosphere(t, t_cc0, T_acc, T_am, M_cmp, M_cccp, M_ca0))\n",
    "    M_ca_line = ax1.plot(t/billion_years, M_ca/gigaton, linewidth=lw, color='cyan')\n",
    "    plt.annotate('Atmosphere', xy=(0.05, 0.95), xytext=(t[-1]*0.70/billion_years,(M_ca[-1] + 0.1e8)/gigaton), size=fz)\n",
    "\n",
    "    ax1.set_xlabel('Time ($10^9$ years)', size=fz_label)\n",
    "    ax1.set_ylabel('Mass of Carbon ($10^8$ Gt)', size=fz_label)\n",
    "    #plt.savefig('model_2_plot.pdf', format='pdf')\n",
    "\n",
    "    x_axis_ticks = np.arange(0,6,1)\n",
    "    y_axis_ticks = np.arange(0,2.5,0.5)\n",
    "    x_axis_minor_ticks = np.arange(0,6,0.25)\n",
    "    y_axis_minor_ticks = np.arange(0,2.1,0.1)\n",
    "    ax1.set_xticks(x_axis_ticks)\n",
    "    ax1.set_yticks(y_axis_ticks)\n",
    "    ax1.set_xticks(x_axis_minor_ticks,minor=True)\n",
    "    ax1.set_yticks(y_axis_minor_ticks,minor=True)\n",
    "    ax1.set_xticklabels(x_axis_ticks, fontsize=fz)\n",
    "    ax1.set_yticklabels(y_axis_ticks, fontsize=fz)\n",
    "    ax1.tick_params(which = 'both', direction = 'in')\n",
    "    ax1.grid(which='minor', alpha=0.5)                                                \n",
    "    ax1.grid(which='major', alpha=0.75) \n",
    "    ax1.tick_params(which = 'major', length = 15, width=2, top=True, right=True)\n",
    "    ax1.tick_params(which = 'minor', length = 5, width=2, top=True, right=True)\n",
    "    \n",
    "    plt.xlim([t[0]/billion_years - 0.1,t[-1]/billion_years])\n",
    "    plt.grid()\n",
    "    plt.show()"
   ]
  },
  {
   "cell_type": "markdown",
   "metadata": {
    "slideshow": {
     "slide_type": "slide"
    }
   },
   "source": [
    "## Origin of carbon in the Continental Crust\n",
    "\n",
    "- Wedepohl (1995) give a total carbon mass in the continental crust $^cM_{ccp} = 4.2 \\times 10^7$ Gt.\n",
    "\n",
    "- An atmospheric signature, with a drawdown of carbon due to Urey reaction $\\text{CO}_2 + \\text{CaSiO}_3 \\rightarrow \\text{CaCO}_3 + \\text{SiO}_2$\n",
    "\n",
    "- Alternatively, carbon continental crust extraction due to higher flux of volcanism in comparison to subduction"
   ]
  },
  {
   "cell_type": "markdown",
   "metadata": {
    "hideCode": false,
    "slideshow": {
     "slide_type": "slide"
    }
   },
   "source": [
    "# Reservoir Model (I)\n",
    "\n",
    "- Large mass of carbon in the eartly atmosphere in analogy to Venus\n",
    "- Extraction of some of this carbon to the continental crust"
   ]
  },
  {
   "cell_type": "code",
   "execution_count": 4,
   "metadata": {
    "hideCode": true,
    "hidePrompt": true,
    "scrolled": false,
    "slideshow": {
     "slide_type": "subslide"
    }
   },
   "outputs": [
    {
     "data": {
      "application/vnd.jupyter.widget-view+json": {
       "model_id": "f7d62549fdbd4183a88a5286ce6c20b5",
       "version_major": 2,
       "version_minor": 0
      },
      "text/html": [
       "<p>Failed to display Jupyter Widget of type <code>HBox</code>.</p>\n",
       "<p>\n",
       "  If you're reading this message in the Jupyter Notebook or JupyterLab Notebook, it may mean\n",
       "  that the widgets JavaScript is still loading. If this message persists, it\n",
       "  likely means that the widgets JavaScript library is either not installed or\n",
       "  not enabled. See the <a href=\"https://ipywidgets.readthedocs.io/en/stable/user_install.html\">Jupyter\n",
       "  Widgets Documentation</a> for setup instructions.\n",
       "</p>\n",
       "<p>\n",
       "  If you're reading this message in another frontend (for example, a static\n",
       "  rendering on GitHub or <a href=\"https://nbviewer.jupyter.org/\">NBViewer</a>),\n",
       "  it may mean that your frontend doesn't currently support widgets.\n",
       "</p>\n"
      ],
      "text/plain": [
       "HBox(children=(VBox(children=(FloatSlider(value=500000000.0, description='$\\\\Large{t_{cc0}}$', max=2000000000.0, min=500000000.0, readout_format='.3g', step=100000000.0, style=SliderStyle(handle_color='red')), FloatSlider(value=20000000.0, description='$\\\\Large{\\\\tau_{am}}$', max=1000000000.0, min=10000000.0, readout_format='.3g', step=10000000.0, style=SliderStyle(handle_color='red')), FloatSlider(value=1000000000.0, description='$\\\\Large{\\\\tau_{acc}}$', max=2000000000.0, min=500000000.0, readout_format='.3g', step=100000000.0, style=SliderStyle(handle_color='red')))), VBox(children=(FloatSlider(value=200000000.0, description='$\\\\Large{M_{cmp}}$', max=300000000.0, min=100000000.0, readout_format='.3g', step=10000000.0, style=SliderStyle(handle_color='red')), FloatSlider(value=42000000.0, description='$\\\\Large{M_{cccp}}$', max=60000000.0, readout_format='.3g', step=1000000.0, style=SliderStyle(handle_color='red')), FloatSlider(value=157000000.0, description='$\\\\Large{M_{ca0}}$', max=200000000.0, min=30000000.0, readout_format='.3g', step=10000000.0, style=SliderStyle(handle_color='red')))), Button(description='$\\\\infty$', style=ButtonStyle())))"
      ]
     },
     "metadata": {},
     "output_type": "display_data"
    },
    {
     "data": {
      "application/vnd.jupyter.widget-view+json": {
       "model_id": "75275557a7d943a1b86a4eefc4b58af3",
       "version_major": 2,
       "version_minor": 0
      },
      "text/html": [
       "<p>Failed to display Jupyter Widget of type <code>Output</code>.</p>\n",
       "<p>\n",
       "  If you're reading this message in the Jupyter Notebook or JupyterLab Notebook, it may mean\n",
       "  that the widgets JavaScript is still loading. If this message persists, it\n",
       "  likely means that the widgets JavaScript library is either not installed or\n",
       "  not enabled. See the <a href=\"https://ipywidgets.readthedocs.io/en/stable/user_install.html\">Jupyter\n",
       "  Widgets Documentation</a> for setup instructions.\n",
       "</p>\n",
       "<p>\n",
       "  If you're reading this message in another frontend (for example, a static\n",
       "  rendering on GitHub or <a href=\"https://nbviewer.jupyter.org/\">NBViewer</a>),\n",
       "  it may mean that your frontend doesn't currently support widgets.\n",
       "</p>\n"
      ],
      "text/plain": [
       "Output()"
      ]
     },
     "metadata": {},
     "output_type": "display_data"
    }
   ],
   "source": [
    "style = {'handle_color': 'red', 'readout_color': 'red', 'slider_color': 'red'}\n",
    "\n",
    "M_ca0_widget = widgets.FloatSlider(min=3e7,max=2e8,step=1e7,value=1.57e8, description=\"$\\Large{M_{ca0}}$\", readout_format=\".3g\", style=style)\n",
    "M_cmp_widget = widgets.FloatSlider(min=1e8,max=3e8,step=1e7,value=2e8, description=\"$\\Large{M_{cmp}}$\", readout_format=\".3g\", style=style)\n",
    "M_cccp_widget = widgets.FloatSlider(min=0,max=6e7,step=1e6,value=4.2e7, description=\"$\\Large{M_{cccp}}$\", readout_format=\".3g\", style=style)\n",
    "t_cc0_widget = widgets.FloatSlider(min=0.5e9,max=2e9,step=1e8,value=0.5e9, description=\"$\\Large{t_{cc0}}$\", readout_format=\".3g\", style=style)\n",
    "T_am_widget = widgets.FloatSlider(min=1e7,max=1e9,step=1e7,value=2e7, description=\"$\\Large{\"+latex(tau)+\"_{am}}$\", readout_format=\".3g\", style=style)\n",
    "T_acc_widget = widgets.FloatSlider(min=0.5e9,max=2e9,step=1e8,value=1e9, description=\"$\\Large{\"+latex(tau)+\"_{acc}}$\", readout_format=\".3g\", style=style)\n",
    "\n",
    "def reset_values(b):\n",
    "    w.children[0].value = 0.5e9\n",
    "    w.children[1].value = 2e7\n",
    "    w.children[2].value = 1e9\n",
    "    w.children[3].value = 2e8\n",
    "    w.children[4].value = 4.2e7\n",
    "    w.children[5].value = 1.57e8\n",
    "#     w.children[6].value = 1.57e8\n",
    "    \n",
    "refresh_widget = widgets.Button(description=r'$\\infty$',)\n",
    "refresh_widget.on_click(reset_values)\n",
    "\n",
    "w = widgets.interactive(reservoir_model,\n",
    "                        t = widgets.fixed(t),\n",
    "                        t_cc0 = t_cc0_widget,\n",
    "                        T_am = T_am_widget,                        \n",
    "                        T_acc = T_acc_widget,\n",
    "                        M_cmp = M_cmp_widget,\n",
    "                        M_cccp = M_cccp_widget,\n",
    "                        M_ca0 = M_ca0_widget)\n",
    "\n",
    "display(HBox([VBox(w.children[0:3]), VBox(w.children[3:6]), refresh_widget]))#Show all controls\n",
    "display(w.children[-1]) #Show the output"
   ]
  },
  {
   "cell_type": "markdown",
   "metadata": {
    "slideshow": {
     "slide_type": "slide"
    }
   },
   "source": [
    "# Reservoir Model (II)\n",
    "\n",
    "- Extraction of carbon from the mantle to the continental crust.\n"
   ]
  },
  {
   "cell_type": "markdown",
   "metadata": {
    "slideshow": {
     "slide_type": "slide"
    }
   },
   "source": [
    "# Future Work\n",
    "\n",
    "- Combine models \n",
    "- Breakup the mantle into several reservoirs \n",
    "- Consider MORB and OIB volcanism seperately\n"
   ]
  },
  {
   "cell_type": "markdown",
   "metadata": {
    "slideshow": {
     "slide_type": "slide"
    }
   },
   "source": [
    "# Thank You."
   ]
  },
  {
   "cell_type": "markdown",
   "metadata": {
    "slideshow": {
     "slide_type": "skip"
    }
   },
   "source": [
    "## Reservoir Model (II)"
   ]
  },
  {
   "cell_type": "code",
   "execution_count": 5,
   "metadata": {
    "hideCode": true,
    "hidePrompt": true,
    "slideshow": {
     "slide_type": "skip"
    }
   },
   "outputs": [
    {
     "data": {
      "application/vnd.jupyter.widget-view+json": {
       "model_id": "d797f195e8ff4b3c8547af90d05c898f",
       "version_major": 2,
       "version_minor": 0
      },
      "text/html": [
       "<p>Failed to display Jupyter Widget of type <code>HBox</code>.</p>\n",
       "<p>\n",
       "  If you're reading this message in the Jupyter Notebook or JupyterLab Notebook, it may mean\n",
       "  that the widgets JavaScript is still loading. If this message persists, it\n",
       "  likely means that the widgets JavaScript library is either not installed or\n",
       "  not enabled. See the <a href=\"https://ipywidgets.readthedocs.io/en/stable/user_install.html\">Jupyter\n",
       "  Widgets Documentation</a> for setup instructions.\n",
       "</p>\n",
       "<p>\n",
       "  If you're reading this message in another frontend (for example, a static\n",
       "  rendering on GitHub or <a href=\"https://nbviewer.jupyter.org/\">NBViewer</a>),\n",
       "  it may mean that your frontend doesn't currently support widgets.\n",
       "</p>\n"
      ],
      "text/plain": [
       "HBox(children=(VBox(children=(FloatSlider(value=500000000.0, description='$t_{cc0}$', max=2000000000.0, min=500000000.0, readout_format='.3g', step=100000000.0), FloatSlider(value=20000000.0, description='$\\\\tau_{am}$', max=1000000000.0, min=10000000.0, readout_format='.3g', step=10000000.0), FloatSlider(value=1000000000.0, description='$\\\\tau_{acc}$', max=2000000000.0, min=500000000.0, readout_format='.3g', step=100000000.0))), VBox(children=(FloatSlider(value=200000000.0, description='$M_{cmp}$', max=300000000.0, min=100000000.0, readout_format='.3g', step=10000000.0), FloatSlider(value=42000000.0, description='$M_{cccp}$', max=60000000.0, readout_format='.3g', step=1000000.0), FloatSlider(value=42000000.0, description='$M_{ca0}$', max=200000000.0, min=30000000.0, readout_format='.3g', step=10000000.0))), Button(description='$\\\\infty$', style=ButtonStyle())))"
      ]
     },
     "metadata": {},
     "output_type": "display_data"
    },
    {
     "data": {
      "application/vnd.jupyter.widget-view+json": {
       "model_id": "fbda0aa4dd464c2e8a8273561789f831",
       "version_major": 2,
       "version_minor": 0
      },
      "text/html": [
       "<p>Failed to display Jupyter Widget of type <code>Output</code>.</p>\n",
       "<p>\n",
       "  If you're reading this message in the Jupyter Notebook or JupyterLab Notebook, it may mean\n",
       "  that the widgets JavaScript is still loading. If this message persists, it\n",
       "  likely means that the widgets JavaScript library is either not installed or\n",
       "  not enabled. See the <a href=\"https://ipywidgets.readthedocs.io/en/stable/user_install.html\">Jupyter\n",
       "  Widgets Documentation</a> for setup instructions.\n",
       "</p>\n",
       "<p>\n",
       "  If you're reading this message in another frontend (for example, a static\n",
       "  rendering on GitHub or <a href=\"https://nbviewer.jupyter.org/\">NBViewer</a>),\n",
       "  it may mean that your frontend doesn't currently support widgets.\n",
       "</p>\n"
      ],
      "text/plain": [
       "Output()"
      ]
     },
     "metadata": {},
     "output_type": "display_data"
    }
   ],
   "source": [
    "M_ca0_widget = widgets.FloatSlider(min=3e7,max=2e8,step=1e7,value=4.2e7, description=\"$M_{ca0}$\", readout_format=\".3g\")\n",
    "M_cmp_widget = widgets.FloatSlider(min=1e8,max=3e8,step=1e7,value=2e8, description=\"$M_{cmp}$\", readout_format=\".3g\")\n",
    "M_cccp_widget = widgets.FloatSlider(min=0,max=6e7,step=1e6,value=4.2e7, description=\"$M_{cccp}$\", readout_format=\".3g\")\n",
    "t_cc0_widget = widgets.FloatSlider(min=0.5e9,max=2e9,step=1e8,value=0.5e9, description=\"$t_{cc0}$\", readout_format=\".3g\")\n",
    "T_am_widget = widgets.FloatSlider(min=1e7,max=1e9,step=1e7,value=2e7, description=\"$\"+latex(tau)+\"_{am}$\", readout_format=\".3g\")\n",
    "T_acc_widget = widgets.FloatSlider(min=0.5e9,max=2e9,step=1e8,value=1e9, description=\"$\"+latex(tau)+\"_{acc}$\", readout_format=\".3g\")\n",
    "\n",
    "def reset_values2(b):\n",
    "    w.children[0].value = 0.5e9\n",
    "    w.children[1].value = 2e7\n",
    "    w.children[2].value = 1e9\n",
    "    w.children[3].value = 2e8\n",
    "    w.children[4].value = 4.2e7\n",
    "    w.children[5].value = 4.2e7\n",
    "\n",
    "        \n",
    "refresh_widget2 = widgets.Button(description=r'$\\infty$',)\n",
    "refresh_widget2.on_click(reset_values2)\n",
    "\n",
    "w = widgets.interactive(reservoir_model,\n",
    "                        t = widgets.fixed(t),\n",
    "                        t_cc0 = t_cc0_widget,\n",
    "                        T_am = T_am_widget,                        \n",
    "                        T_acc = T_acc_widget,\n",
    "                        M_cmp = M_cmp_widget,\n",
    "                        M_cccp = M_cccp_widget,\n",
    "                        M_ca0 = M_ca0_widget)\n",
    "\n",
    "display(HBox([VBox(w.children[0:3]), VBox(w.children[3:6]), refresh_widget2]))#Show all controls\n",
    "display(w.children[-1]) #Show the output"
   ]
  },
  {
   "cell_type": "markdown",
   "metadata": {
    "slideshow": {
     "slide_type": "skip"
    }
   },
   "source": [
    "## Fate of carbon in the Mantle\n",
    "\n",
    "- Global carbon flux from the mantle to the atmosphere at mid-ocean ridges is estimated as $^cJ_{m-a} = 36 \\pm 24$ Mtyr$^{-1}$.\n",
    "\n",
    "- Global carbon flux from the atmosphere to the mantle at subduction zones is estimated as $^cJ_{sp} = 24 \\pm 24$ Mtyr$^{-1}$.\n",
    "\n",
    "- The rate of basaltic crust generation at mid-ocean ridges is estimated to be 3.4 km$^2$yr$^{-1}$ (Rowley, 2002), $\\rho_{basaltic crust} = 2800 $ kg m$^{-3}$ and mean thickness of crust if 7km. \n",
    "\n",
    "- Estimate of the total present mass of carbon in the mantle is $^cM_{mp} = 2 \\times 10^8$ Gt."
   ]
  },
  {
   "cell_type": "markdown",
   "metadata": {
    "slideshow": {
     "slide_type": "skip"
    }
   },
   "source": [
    "# Abundances of Carbon (I)\n",
    "\n",
    "<img style=\"float: center;\" src=\"Figures/change_in_carbon_mass_plot.svg\">"
   ]
  },
  {
   "cell_type": "code",
   "execution_count": null,
   "metadata": {
    "slideshow": {
     "slide_type": "skip"
    }
   },
   "outputs": [],
   "source": []
  }
 ],
 "metadata": {
  "celltoolbar": "Slideshow",
  "kernelspec": {
   "display_name": "Python 3",
   "language": "python",
   "name": "python3"
  },
  "language_info": {
   "codemirror_mode": {
    "name": "ipython",
    "version": 3
   },
   "file_extension": ".py",
   "mimetype": "text/x-python",
   "name": "python",
   "nbconvert_exporter": "python",
   "pygments_lexer": "ipython3",
   "version": "3.5.2"
  },
  "latex_envs": {
   "LaTeX_envs_menu_present": true,
   "autoclose": false,
   "autocomplete": true,
   "bibliofile": "biblio.bib",
   "cite_by": "apalike",
   "current_citInitial": 1,
   "eqLabelWithNumbers": true,
   "eqNumInitial": 1,
   "hotkeys": {
    "equation": "Ctrl-E",
    "itemize": "Ctrl-I"
   },
   "labels_anchors": false,
   "latex_user_defs": false,
   "report_style_numbering": false,
   "user_envs_cfg": false
  }
 },
 "nbformat": 4,
 "nbformat_minor": 2
}
