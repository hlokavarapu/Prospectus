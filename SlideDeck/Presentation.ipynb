{
 "cells": [
  {
   "cell_type": "code",
   "execution_count": 5,
   "metadata": {
    "slideshow": {
     "slide_type": "skip"
    }
   },
   "outputs": [],
   "source": [
    "from ipywidgets import widgets, IntSlider, Label\n",
    "from IPython.display import display\n",
    "\n",
    "import matplotlib.pyplot as plt\n",
    "import numpy as np\n",
    "from sympy.abc import tau\n",
    "from sympy import latex\n",
    "import math"
   ]
  },
  {
   "cell_type": "code",
   "execution_count": 6,
   "metadata": {
    "hideCode": false,
    "slideshow": {
     "slide_type": "skip"
    }
   },
   "outputs": [],
   "source": [
    "def evolution_of_carbon_mantle(t, T_am, M_cmp, M_cccp, M_ca0):\n",
    "    M_cm = M_cmp + M_cccp - M_ca0 + (M_ca0 - M_cccp)*(1 - np.exp(-t/T_am))\n",
    "    return M_cm\n",
    "\n",
    "def evolution_ccc_initial(t,t_cc0):\n",
    "    M_ccc_initial = np.zeros(t[t<t_cc0].size)\n",
    "    return M_ccc_initial\n",
    "\n",
    "def evolution_of_carbon_continental_crust(t, t_cc0, T_acc, M_cccp):\n",
    "    M_ccc = M_cccp * (1-np.exp(-1 * (t[t>=t_cc0]-t_cc0)/(T_acc)))\n",
    "    return M_ccc\n",
    "\n",
    "def evolution_of_carbon_atmosphere_initial(t, t_cc0, T_ca, M_ca0, M_cccp):\n",
    "    M_ca_initial = M_ca0 - (M_ca0 - M_cccp)*(1 - np.exp(-t[t<t_cc0]/T_ca))\n",
    "    return M_ca_initial\n",
    "\n",
    "def evolution_of_carbon_atmosphere(t, t_cc0, T_acc, T_am, M_cmp, M_cccp, M_ca0):\n",
    "    M_ca = (M_ca0 - M_cccp)*(np.exp(-t[t>=t_cc0]/T_am)) + M_cccp * np.exp(-1 * (t[t>=t_cc0]-t_cc0)/(T_acc))\n",
    "    #M_ca = M_cmp - evolution_of_carbon_mantle(t[t>=t_cc0],T_am, M_cmp, M_cccp, M_ca0) + M_cccp - evolution_of_carbon_continental_crust(t[t>=t_cc0], t_cc0, T_acc, M_cccp)\n",
    "    return M_ca\n",
    "\n",
    "def time(tp):\n",
    "    return np.arange(0,tp,1e6)\n",
    "\n",
    "billion_years = 1e9\n",
    "gigaton = 1e8\n",
    "t = time(4.4e9)"
   ]
  },
  {
   "cell_type": "code",
   "execution_count": 7,
   "metadata": {
    "slideshow": {
     "slide_type": "skip"
    }
   },
   "outputs": [],
   "source": [
    "def reservoir_model(t, t_cc0, T_am, T_acc, M_cmp, M_cccp, M_ca0):\n",
    "    plt.close('all')\n",
    "    plt.figure(figsize=(8,6))\n",
    "    M_cm = evolution_of_carbon_mantle(t, T_am, M_cmp, M_cccp, M_ca0)\n",
    "    M_cm_line = plt.plot(t/billion_years, M_cm/gigaton)\n",
    "    plt.setp(M_cm_line, color='orange')\n",
    "    plt.annotate('Mantle', xy=(0.05, 0.95), xytext=(t[-1]*0.75/billion_years, M_cm[-1]*0.92/gigaton))\n",
    "    \n",
    "    M_ccc_initial = evolution_ccc_initial(t, t_cc0)\n",
    "    M_ccc = np.append(M_ccc_initial, evolution_of_carbon_continental_crust(t, t_cc0, T_acc, M_cccp))\n",
    "    M_ccc_line = plt.plot(t/billion_years, M_ccc/gigaton)\n",
    "    plt.setp(M_ccc_line, color='black')\n",
    "    plt.annotate('Continental Crust', xy=(0.05, 0.95), xytext=(t[-1]*0.65/billion_years, M_ccc[-1]*1.20/gigaton))\n",
    "\n",
    "    \n",
    "    M_ca_initial = evolution_of_carbon_atmosphere_initial(t, t_cc0, T_am, M_ca0, M_cccp)\n",
    "    M_ca = np.append(M_ca_initial, evolution_of_carbon_atmosphere(t, t_cc0, T_acc, T_am, M_cmp, M_cccp, M_ca0))\n",
    "    M_ca_line = plt.plot(t/billion_years, M_ca/gigaton)\n",
    "    plt.setp(M_ca_line, color='cyan')\n",
    "    plt.annotate('Atmosphere', xy=(0.05, 0.95), xytext=(t[-1]*0.70/billion_years,(M_ca[-1] + 0.1e8)/gigaton))\n",
    "\n",
    "    plt.xlabel('Time ($10^9$ years)')\n",
    "    plt.ylabel('Mass of Carbon ($10^8$ Gt)')\n",
    "    #plt.savefig('model_2_plot.pdf', format='pdf')\n",
    "    plt.show()"
   ]
  },
  {
   "cell_type": "markdown",
   "metadata": {
    "slideshow": {
     "slide_type": "slide"
    }
   },
   "source": [
    "# Reservoir Model of Evolution of Deep Carbon"
   ]
  },
  {
   "cell_type": "markdown",
   "metadata": {
    "slideshow": {
     "slide_type": "subslide"
    }
   },
   "source": [
    "## Model 1"
   ]
  },
  {
   "cell_type": "code",
   "execution_count": 8,
   "metadata": {
    "hideCode": true,
    "hidePrompt": true,
    "scrolled": false,
    "slideshow": {
     "slide_type": "subslide"
    }
   },
   "outputs": [
    {
     "data": {
      "application/vnd.jupyter.widget-view+json": {
       "model_id": "51e0f03315784f28ade4f54d804abc39",
       "version_major": 2,
       "version_minor": 0
      },
      "text/html": [
       "<p>Failed to display Jupyter Widget of type <code>interactive</code>.</p>\n",
       "<p>\n",
       "  If you're reading this message in the Jupyter Notebook or JupyterLab Notebook, it may mean\n",
       "  that the widgets JavaScript is still loading. If this message persists, it\n",
       "  likely means that the widgets JavaScript library is either not installed or\n",
       "  not enabled. See the <a href=\"https://ipywidgets.readthedocs.io/en/stable/user_install.html\">Jupyter\n",
       "  Widgets Documentation</a> for setup instructions.\n",
       "</p>\n",
       "<p>\n",
       "  If you're reading this message in another frontend (for example, a static\n",
       "  rendering on GitHub or <a href=\"https://nbviewer.jupyter.org/\">NBViewer</a>),\n",
       "  it may mean that your frontend doesn't currently support widgets.\n",
       "</p>\n"
      ],
      "text/plain": [
       "interactive(children=(IntSlider(value=500000000, description='$t_{cc0}$', max=2000000000, min=500000000, readout_format='.2g', step=100000000), IntSlider(value=20000000, description='$\\\\tau_{am}$', max=1000000000, min=10000000, readout_format='.2g', step=10000000), IntSlider(value=1000000000, description='$\\\\tau_{acc}$', max=2000000000, min=500000000, readout_format='.2g', step=100000000), IntSlider(value=200000000, description='$M_{cmp}$', max=300000000, min=100000000, readout_format='.2g', step=10000000), IntSlider(value=42000000, description='$M_{cccp}$', max=60000000, readout_format='.2g', step=1000000), IntSlider(value=157000000, description='$M_{ca0}$', max=200000000, min=30000000, readout_format='.2g', step=10000000), Output()), _dom_classes=('widget-interact',))"
      ]
     },
     "metadata": {},
     "output_type": "display_data"
    }
   ],
   "source": [
    "\n",
    "\n",
    "M_ca0_widget = widgets.IntSlider(min=3e7,max=2e8,step=1e7,value=1.57e8, description=\"$M_{ca0}$\", readout_format=\".2g\")\n",
    "M_cmp_widget = widgets.IntSlider(min=1e8,max=3e8,step=1e7,value=2e8, description=\"$M_{cmp}$\", readout_format=\".2g\")\n",
    "M_cccp_widget = widgets.IntSlider(min=0,max=6e7,step=1e6,value=4.2e7, description=\"$M_{cccp}$\", readout_format=\".2g\")\n",
    "t_cc0_widget = widgets.IntSlider(min=0.5e9,max=2e9,step=1e8,value=0.5e9, description=\"$t_{cc0}$\", readout_format=\".2g\")\n",
    "T_am_widget = widgets.IntSlider(min=1e7,max=1e9,step=1e7,value=2e7, description=\"$\"+latex(tau)+\"_{am}$\", readout_format=\".2g\")\n",
    "T_acc_widget = widgets.IntSlider(min=0.5e9,max=2e9,step=1e8,value=1e9, description=\"$\"+latex(tau)+\"_{acc}$\", readout_format=\".2g\")\n",
    "\n",
    "w = widgets.interactive(reservoir_model,\n",
    "                        t = widgets.fixed(t),\n",
    "                        t_cc0 = t_cc0_widget,\n",
    "                        T_am = T_am_widget,                        \n",
    "                        T_acc = T_acc_widget,\n",
    "                        M_cmp = M_cmp_widget,\n",
    "                        M_cccp = M_cccp_widget,\n",
    "                        M_ca0 = M_ca0_widget)\n",
    "\n",
    "display(w)"
   ]
  },
  {
   "cell_type": "code",
   "execution_count": null,
   "metadata": {},
   "outputs": [],
   "source": []
  }
 ],
 "metadata": {
  "celltoolbar": "Hide code",
  "kernelspec": {
   "display_name": "Python 3",
   "language": "python",
   "name": "python3"
  },
  "language_info": {
   "codemirror_mode": {
    "name": "ipython",
    "version": 3
   },
   "file_extension": ".py",
   "mimetype": "text/x-python",
   "name": "python",
   "nbconvert_exporter": "python",
   "pygments_lexer": "ipython3",
   "version": "3.5.2"
  }
 },
 "nbformat": 4,
 "nbformat_minor": 2
}
