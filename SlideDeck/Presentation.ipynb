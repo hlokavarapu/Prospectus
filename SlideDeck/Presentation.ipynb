{
 "cells": [
  {
   "cell_type": "markdown",
   "metadata": {
    "hideOutput": true,
    "slideshow": {
     "slide_type": "slide"
    }
   },
   "source": [
    "# Reservoir modeling of deep carbon cycle\n",
    "## By Harsha Lokavarapu"
   ]
  },
  {
   "cell_type": "markdown",
   "metadata": {
    "slideshow": {
     "slide_type": "subslide"
    }
   },
   "source": [
    "## Reservoirs of Carbon\n",
    "\n",
    "<img style=\"float: center;\" src=\"Figures/carbon_reservoirs_and_pathways.svg\">\n",
    "\n",
    "Fig 1. An illustration of Earth's major carbon reservoirs and pathways. \n",
    "\n",
    "The estimated mass of carbon is shown in gigatons (1 Gt = 10$^{12}$ kg). "
   ]
  },
  {
   "cell_type": "markdown",
   "metadata": {
    "slideshow": {
     "slide_type": "subslide"
    }
   },
   "source": [
    "# Relative Abundances of Carbon\n",
    "\n",
    "<img style=\"float: center;\" src=\"Figures/relative_size_of_reservoirs.svg\">"
   ]
  },
  {
   "cell_type": "markdown",
   "metadata": {
    "slideshow": {
     "slide_type": "slide"
    }
   },
   "source": [
    "# Carbon reservoir model assumptions\n",
    "\n",
    "1. After the end of core formation, we assume the core is an isolated reservoir.\n",
    "\n",
    "2. Carbon concentration is uniformly distributed in the mantle.\n",
    "\n",
    "2. We assume that the rate of mass addition decays exponentially with the age of the Earth.\n",
    "\n",
    "3. Total mass of carbon in the three reservoirs remain constant over time.\n",
    "\n"
   ]
  },
  {
   "cell_type": "code",
   "execution_count": 17,
   "metadata": {
    "hideCode": true,
    "hidePrompt": false,
    "slideshow": {
     "slide_type": "skip"
    }
   },
   "outputs": [],
   "source": [
    "from ipywidgets import widgets, IntSlider, Label, HBox, VBox, Button\n",
    "from IPython.display import display\n",
    "\n",
    "import matplotlib.pyplot as plt\n",
    "import numpy as np\n",
    "from sympy.abc import tau\n",
    "from sympy import latex\n",
    "import math"
   ]
  },
  {
   "cell_type": "code",
   "execution_count": 18,
   "metadata": {
    "hideCode": true,
    "hidePrompt": true,
    "slideshow": {
     "slide_type": "skip"
    }
   },
   "outputs": [],
   "source": [
    "def evolution_of_carbon_mantle(t, T_am, M_cmp, M_cccp, M_ca0):\n",
    "    M_cm = M_cmp + M_cccp - M_ca0 + (M_ca0 - M_cccp)*(1 - np.exp(-t/T_am))\n",
    "    return M_cm\n",
    "\n",
    "def evolution_ccc_initial(t,t_cc0):\n",
    "    M_ccc_initial = np.zeros(t[t<t_cc0].size)\n",
    "    return M_ccc_initial\n",
    "\n",
    "def evolution_of_carbon_continental_crust(t, t_cc0, T_acc, M_cccp):\n",
    "    M_ccc = M_cccp * (1-np.exp(-1 * (t[t>=t_cc0]-t_cc0)/(T_acc)))\n",
    "    return M_ccc\n",
    "\n",
    "def evolution_of_carbon_atmosphere_initial(t, t_cc0, T_ca, M_ca0, M_cccp):\n",
    "    M_ca_initial = M_ca0 - (M_ca0 - M_cccp)*(1 - np.exp(-t[t<t_cc0]/T_ca))\n",
    "    return M_ca_initial\n",
    "\n",
    "def evolution_of_carbon_atmosphere(t, t_cc0, T_acc, T_am, M_cmp, M_cccp, M_ca0):\n",
    "    M_ca = (M_ca0 - M_cccp)*(np.exp(-t[t>=t_cc0]/T_am)) + M_cccp * np.exp(-1 * (t[t>=t_cc0]-t_cc0)/(T_acc))\n",
    "    #M_ca = M_cmp - evolution_of_carbon_mantle(t[t>=t_cc0],T_am, M_cmp, M_cccp, M_ca0) + M_cccp - evolution_of_carbon_continental_crust(t[t>=t_cc0], t_cc0, T_acc, M_cccp)\n",
    "    return M_ca\n",
    "\n",
    "def time(tp):\n",
    "    return np.arange(0,tp,1e6)\n",
    "\n",
    "billion_years = 1e9\n",
    "gigaton = 1e8\n",
    "t = time(4.4e9)"
   ]
  },
  {
   "cell_type": "code",
   "execution_count": 19,
   "metadata": {
    "hideCode": true,
    "hidePrompt": false,
    "slideshow": {
     "slide_type": "skip"
    }
   },
   "outputs": [],
   "source": [
    "def reservoir_model(t, t_cc0, T_am, T_acc, M_cmp, M_cccp, M_ca0):\n",
    "    plt.close('all')\n",
    "    plt.figure(figsize=(8,6))\n",
    "    M_cm = evolution_of_carbon_mantle(t, T_am, M_cmp, M_cccp, M_ca0)\n",
    "    M_cm_line = plt.plot(t/billion_years, M_cm/gigaton)\n",
    "    plt.setp(M_cm_line, color='orange')\n",
    "    plt.annotate('Mantle', xy=(0.05, 0.95), xytext=(t[-1]*0.75/billion_years, M_cm[-1]*0.92/gigaton))\n",
    "    \n",
    "    M_ccc_initial = evolution_ccc_initial(t, t_cc0)\n",
    "    M_ccc = np.append(M_ccc_initial, evolution_of_carbon_continental_crust(t, t_cc0, T_acc, M_cccp))\n",
    "    M_ccc_line = plt.plot(t/billion_years, M_ccc/gigaton)\n",
    "    plt.setp(M_ccc_line, color='black')\n",
    "    plt.annotate('Continental Crust', xy=(0.05, 0.95), xytext=(t[-1]*0.65/billion_years, M_ccc[-1]*1.20/gigaton))\n",
    "\n",
    "    \n",
    "    M_ca_initial = evolution_of_carbon_atmosphere_initial(t, t_cc0, T_am, M_ca0, M_cccp)\n",
    "    M_ca = np.append(M_ca_initial, evolution_of_carbon_atmosphere(t, t_cc0, T_acc, T_am, M_cmp, M_cccp, M_ca0))\n",
    "    M_ca_line = plt.plot(t/billion_years, M_ca/gigaton)\n",
    "    plt.setp(M_ca_line, color='cyan')\n",
    "    plt.annotate('Atmosphere', xy=(0.05, 0.95), xytext=(t[-1]*0.70/billion_years,(M_ca[-1] + 0.1e8)/gigaton))\n",
    "\n",
    "    plt.xlabel('Time ($10^9$ years)')\n",
    "    plt.ylabel('Mass of Carbon ($10^8$ Gt)')\n",
    "    #plt.savefig('model_2_plot.pdf', format='pdf')\n",
    "    plt.show()"
   ]
  },
  {
   "cell_type": "markdown",
   "metadata": {
    "slideshow": {
     "slide_type": "slide"
    }
   },
   "source": [
    "## Carbon Fluxes in Mantle\n",
    "\n",
    "- Global carbon flux from the mantle to the atmosphere at mid-ocean ridges is estimated as $^cJ_{m-a} = 36 \\pm 24$ Mtyr$^{-1}$.\n",
    "\n",
    "- Global carbon flux from the atmosphere to the mantle at subduction zones is estimated as $^cJ_{sp} = 24 \\pm 24$ Mtyr$^{-1}$.\n",
    "\n",
    "- The rate of basaltic crust generation at mid-ocean ridges is estimated to be 3.4 km$^2$yr$^{-1}$ (Rowley, 2002), $\\rho_{basaltic crust} = 2800 $ kg m$^{-3}$ and mean thickness of crust if 7km. \n",
    "\n",
    "- Estimate of the total present mass of carbon in the mantle is $^cM_{mp} = 2 \\times 10^8$ Gt."
   ]
  },
  {
   "cell_type": "markdown",
   "metadata": {
    "slideshow": {
     "slide_type": "slide"
    }
   },
   "source": [
    "## Source of carbon in Continental Crust\n",
    "\n",
    "- Wedepohl (1995) give a total carbon mass in the continental crust $^cM_{ccp} = 4.2 \\times 10^7$ Gt.\n",
    "\n",
    "- About 80% of carbon is in sediments, almost entirely as carbonates.\n",
    "\n",
    "- An atmospheric signature, with a drawdown of carbon due to Urey reaction $\\text{CO}_2 + \\text{CaSiO}_3 \\rightarrow \\text{CaCO}_3 + \\text{SiO}_2$\n",
    "\n",
    "- Alternatively, carbon continental crust extraction due to higher flux of volcanism in comparison to subduction\n",
    "\n",
    "- Unradiogenic initial $^{176}$Hf/$^{177}$Hf ratios dating of zircons in Jack Hills date up to 4.38 Ga suggesting continental crust formation as early as 4.5 Ga (Hopking et al, 2010)."
   ]
  },
  {
   "cell_type": "markdown",
   "metadata": {
    "hideCode": false,
    "slideshow": {
     "slide_type": "slide"
    }
   },
   "source": [
    "# Reservoir Model (I)"
   ]
  },
  {
   "cell_type": "code",
   "execution_count": 23,
   "metadata": {
    "hideCode": true,
    "hidePrompt": true,
    "scrolled": false,
    "slideshow": {
     "slide_type": "subslide"
    }
   },
   "outputs": [
    {
     "data": {
      "application/vnd.jupyter.widget-view+json": {
       "model_id": "be5e0a8aebd8465f87dac8df868c9f46",
       "version_major": 2,
       "version_minor": 0
      },
      "text/html": [
       "<p>Failed to display Jupyter Widget of type <code>HBox</code>.</p>\n",
       "<p>\n",
       "  If you're reading this message in Jupyter Notebook or JupyterLab, it may mean\n",
       "  that the widgets JavaScript is still loading. If this message persists, it\n",
       "  likely means that the widgets JavaScript library is either not installed or\n",
       "  not enabled. See the <a href=\"https://ipywidgets.readthedocs.io/en/stable/user_install.html\">Jupyter\n",
       "  Widgets Documentation</a> for setup instructions.\n",
       "</p>\n",
       "<p>\n",
       "  If you're reading this message in another notebook frontend (for example, a static\n",
       "  rendering on GitHub or <a href=\"https://nbviewer.jupyter.org/\">NBViewer</a>),\n",
       "  it may mean that your frontend doesn't currently support widgets.\n",
       "</p>\n"
      ],
      "text/plain": [
       "HBox(children=(VBox(children=(FloatSlider(value=500000000.0, description='$t_{cc0}$', max=2000000000.0, min=500000000.0, readout_format='.3g', step=100000000.0), FloatSlider(value=20000000.0, description='$\\\\tau_{am}$', max=1000000000.0, min=10000000.0, readout_format='.3g', step=10000000.0), FloatSlider(value=1000000000.0, description='$\\\\tau_{acc}$', max=2000000000.0, min=500000000.0, readout_format='.3g', step=100000000.0))), VBox(children=(FloatSlider(value=200000000.0, description='$M_{cmp}$', max=300000000.0, min=100000000.0, readout_format='.3g', step=10000000.0), FloatSlider(value=42000000.0, description='$M_{cccp}$', max=60000000.0, readout_format='.3g', step=1000000.0), FloatSlider(value=157000000.0, description='$M_{ca0}$', max=200000000.0, min=30000000.0, readout_format='.3g', step=10000000.0))), Button(description='$\\\\infty$', style=ButtonStyle())))"
      ]
     },
     "metadata": {},
     "output_type": "display_data"
    },
    {
     "data": {
      "application/vnd.jupyter.widget-view+json": {
       "model_id": "a751074d19904e02aeab191557face2b",
       "version_major": 2,
       "version_minor": 0
      },
      "text/html": [
       "<p>Failed to display Jupyter Widget of type <code>Output</code>.</p>\n",
       "<p>\n",
       "  If you're reading this message in Jupyter Notebook or JupyterLab, it may mean\n",
       "  that the widgets JavaScript is still loading. If this message persists, it\n",
       "  likely means that the widgets JavaScript library is either not installed or\n",
       "  not enabled. See the <a href=\"https://ipywidgets.readthedocs.io/en/stable/user_install.html\">Jupyter\n",
       "  Widgets Documentation</a> for setup instructions.\n",
       "</p>\n",
       "<p>\n",
       "  If you're reading this message in another notebook frontend (for example, a static\n",
       "  rendering on GitHub or <a href=\"https://nbviewer.jupyter.org/\">NBViewer</a>),\n",
       "  it may mean that your frontend doesn't currently support widgets.\n",
       "</p>\n"
      ],
      "text/plain": [
       "Output()"
      ]
     },
     "metadata": {},
     "output_type": "display_data"
    }
   ],
   "source": [
    "\n",
    "\n",
    "M_ca0_widget = widgets.FloatSlider(min=3e7,max=2e8,step=1e7,value=1.57e8, description=\"$M_{ca0}$\", readout_format=\".3g\")\n",
    "M_cmp_widget = widgets.FloatSlider(min=1e8,max=3e8,step=1e7,value=2e8, description=\"$M_{cmp}$\", readout_format=\".3g\")\n",
    "M_cccp_widget = widgets.FloatSlider(min=0,max=6e7,step=1e6,value=4.2e7, description=\"$M_{cccp}$\", readout_format=\".3g\")\n",
    "t_cc0_widget = widgets.FloatSlider(min=0.5e9,max=2e9,step=1e8,value=0.5e9, description=\"$t_{cc0}$\", readout_format=\".3g\")\n",
    "T_am_widget = widgets.FloatSlider(min=1e7,max=1e9,step=1e7,value=2e7, description=\"$\"+latex(tau)+\"_{am}$\", readout_format=\".3g\")\n",
    "T_acc_widget = widgets.FloatSlider(min=0.5e9,max=2e9,step=1e8,value=1e9, description=\"$\"+latex(tau)+\"_{acc}$\", readout_format=\".3g\")\n",
    "\n",
    "def reset_values(b):\n",
    "    w.children[0].value = 0.5e9\n",
    "    w.children[1].value = 2e7\n",
    "    w.children[2].value = 1e9\n",
    "    w.children[3].value = 2e8\n",
    "    w.children[4].value = 4.2e7\n",
    "    w.children[5].value = 1.57e8\n",
    "#     w.children[6].value = 1.57e8\n",
    "    \n",
    "refresh_widget = widgets.Button(description=r'$\\infty$',)\n",
    "refresh_widget.on_click(reset_values)\n",
    "\n",
    "w = widgets.interactive(reservoir_model,\n",
    "                        t = widgets.fixed(t),\n",
    "                        t_cc0 = t_cc0_widget,\n",
    "                        T_am = T_am_widget,                        \n",
    "                        T_acc = T_acc_widget,\n",
    "                        M_cmp = M_cmp_widget,\n",
    "                        M_cccp = M_cccp_widget,\n",
    "                        M_ca0 = M_ca0_widget)\n",
    "\n",
    "display(HBox([VBox(w.children[0:3]), VBox(w.children[3:6]), refresh_widget]))#Show all controls\n",
    "display(w.children[-1]) #Show the output"
   ]
  },
  {
   "cell_type": "markdown",
   "metadata": {
    "slideshow": {
     "slide_type": "slide"
    }
   },
   "source": [
    "## Reservoir Model (II)"
   ]
  },
  {
   "cell_type": "code",
   "execution_count": 24,
   "metadata": {
    "hideCode": true,
    "hidePrompt": true,
    "slideshow": {
     "slide_type": "subslide"
    }
   },
   "outputs": [
    {
     "data": {
      "application/vnd.jupyter.widget-view+json": {
       "model_id": "a4f164ab44644ba6a43e214d19c7a0bf",
       "version_major": 2,
       "version_minor": 0
      },
      "text/html": [
       "<p>Failed to display Jupyter Widget of type <code>HBox</code>.</p>\n",
       "<p>\n",
       "  If you're reading this message in Jupyter Notebook or JupyterLab, it may mean\n",
       "  that the widgets JavaScript is still loading. If this message persists, it\n",
       "  likely means that the widgets JavaScript library is either not installed or\n",
       "  not enabled. See the <a href=\"https://ipywidgets.readthedocs.io/en/stable/user_install.html\">Jupyter\n",
       "  Widgets Documentation</a> for setup instructions.\n",
       "</p>\n",
       "<p>\n",
       "  If you're reading this message in another notebook frontend (for example, a static\n",
       "  rendering on GitHub or <a href=\"https://nbviewer.jupyter.org/\">NBViewer</a>),\n",
       "  it may mean that your frontend doesn't currently support widgets.\n",
       "</p>\n"
      ],
      "text/plain": [
       "HBox(children=(VBox(children=(FloatSlider(value=500000000.0, description='$t_{cc0}$', max=2000000000.0, min=500000000.0, readout_format='.3g', step=100000000.0), FloatSlider(value=20000000.0, description='$\\\\tau_{am}$', max=1000000000.0, min=10000000.0, readout_format='.3g', step=10000000.0), FloatSlider(value=1000000000.0, description='$\\\\tau_{acc}$', max=2000000000.0, min=500000000.0, readout_format='.3g', step=100000000.0))), VBox(children=(FloatSlider(value=200000000.0, description='$M_{cmp}$', max=300000000.0, min=100000000.0, readout_format='.3g', step=10000000.0), FloatSlider(value=42000000.0, description='$M_{cccp}$', max=60000000.0, readout_format='.3g', step=1000000.0), FloatSlider(value=42000000.0, description='$M_{ca0}$', max=200000000.0, min=30000000.0, readout_format='.3g', step=10000000.0))), Button(description='$\\\\infty$', style=ButtonStyle())))"
      ]
     },
     "metadata": {},
     "output_type": "display_data"
    },
    {
     "data": {
      "application/vnd.jupyter.widget-view+json": {
       "model_id": "4e720dfb4d9a4c0982a33b80dc6e9e39",
       "version_major": 2,
       "version_minor": 0
      },
      "text/html": [
       "<p>Failed to display Jupyter Widget of type <code>Output</code>.</p>\n",
       "<p>\n",
       "  If you're reading this message in Jupyter Notebook or JupyterLab, it may mean\n",
       "  that the widgets JavaScript is still loading. If this message persists, it\n",
       "  likely means that the widgets JavaScript library is either not installed or\n",
       "  not enabled. See the <a href=\"https://ipywidgets.readthedocs.io/en/stable/user_install.html\">Jupyter\n",
       "  Widgets Documentation</a> for setup instructions.\n",
       "</p>\n",
       "<p>\n",
       "  If you're reading this message in another notebook frontend (for example, a static\n",
       "  rendering on GitHub or <a href=\"https://nbviewer.jupyter.org/\">NBViewer</a>),\n",
       "  it may mean that your frontend doesn't currently support widgets.\n",
       "</p>\n"
      ],
      "text/plain": [
       "Output()"
      ]
     },
     "metadata": {},
     "output_type": "display_data"
    }
   ],
   "source": [
    "M_ca0_widget = widgets.FloatSlider(min=3e7,max=2e8,step=1e7,value=4.2e7, description=\"$M_{ca0}$\", readout_format=\".3g\")\n",
    "M_cmp_widget = widgets.FloatSlider(min=1e8,max=3e8,step=1e7,value=2e8, description=\"$M_{cmp}$\", readout_format=\".3g\")\n",
    "M_cccp_widget = widgets.FloatSlider(min=0,max=6e7,step=1e6,value=4.2e7, description=\"$M_{cccp}$\", readout_format=\".3g\")\n",
    "t_cc0_widget = widgets.FloatSlider(min=0.5e9,max=2e9,step=1e8,value=0.5e9, description=\"$t_{cc0}$\", readout_format=\".3g\")\n",
    "T_am_widget = widgets.FloatSlider(min=1e7,max=1e9,step=1e7,value=2e7, description=\"$\"+latex(tau)+\"_{am}$\", readout_format=\".3g\")\n",
    "T_acc_widget = widgets.FloatSlider(min=0.5e9,max=2e9,step=1e8,value=1e9, description=\"$\"+latex(tau)+\"_{acc}$\", readout_format=\".3g\")\n",
    "\n",
    "def reset_values2(b):\n",
    "    w.children[0].value = 0.5e9\n",
    "    w.children[1].value = 2e7\n",
    "    w.children[2].value = 1e9\n",
    "    w.children[3].value = 2e8\n",
    "    w.children[4].value = 4.2e7\n",
    "    w.children[5].value = 4.2e7\n",
    "\n",
    "        \n",
    "refresh_widget2 = widgets.Button(description=r'$\\infty$',)\n",
    "refresh_widget2.on_click(reset_values2)\n",
    "\n",
    "w = widgets.interactive(reservoir_model,\n",
    "                        t = widgets.fixed(t),\n",
    "                        t_cc0 = t_cc0_widget,\n",
    "                        T_am = T_am_widget,                        \n",
    "                        T_acc = T_acc_widget,\n",
    "                        M_cmp = M_cmp_widget,\n",
    "                        M_cccp = M_cccp_widget,\n",
    "                        M_ca0 = M_ca0_widget)\n",
    "\n",
    "display(HBox([VBox(w.children[0:3]), VBox(w.children[3:6]), refresh_widget2]))#Show all controls\n",
    "display(w.children[-1]) #Show the output"
   ]
  },
  {
   "cell_type": "markdown",
   "metadata": {
    "slideshow": {
     "slide_type": "skip"
    }
   },
   "source": [
    "# Future work/Questions\n",
    "\n",
    "- Reservoir modeling python package\n",
    "- Breakup the mantle into several reservoirs considering MORB and OIB volcanism seperately\n",
    "- Consider different source functions of carbon, i.e periodical functions"
   ]
  },
  {
   "cell_type": "markdown",
   "metadata": {
    "slideshow": {
     "slide_type": "skip"
    }
   },
   "source": [
    "# Abundances of Carbon (I)\n",
    "\n",
    "<img style=\"float: center;\" src=\"Figures/change_in_carbon_mass_plot.svg\">"
   ]
  },
  {
   "cell_type": "code",
   "execution_count": 22,
   "metadata": {
    "hideCode": false,
    "hidePrompt": false,
    "slideshow": {
     "slide_type": "skip"
    }
   },
   "outputs": [
    {
     "ename": "SyntaxError",
     "evalue": "invalid syntax (<ipython-input-22-46866886051e>, line 1)",
     "output_type": "error",
     "traceback": [
      "\u001b[0;36m  File \u001b[0;32m\"<ipython-input-22-46866886051e>\"\u001b[0;36m, line \u001b[0;32m1\u001b[0m\n\u001b[0;31m    Trim relation to core\u001b[0m\n\u001b[0m                ^\u001b[0m\n\u001b[0;31mSyntaxError\u001b[0m\u001b[0;31m:\u001b[0m invalid syntax\n"
     ]
    }
   ],
   "source": [
    "Trim relation to core\n",
    "\n",
    "OUtput a pdf static html as a backup"
   ]
  },
  {
   "cell_type": "code",
   "execution_count": null,
   "metadata": {
    "slideshow": {
     "slide_type": "skip"
    }
   },
   "outputs": [],
   "source": []
  }
 ],
 "metadata": {
  "celltoolbar": "Hide code",
  "kernelspec": {
   "display_name": "Python 3",
   "language": "python",
   "name": "python3"
  },
  "language_info": {
   "codemirror_mode": {
    "name": "ipython",
    "version": 3
   },
   "file_extension": ".py",
   "mimetype": "text/x-python",
   "name": "python",
   "nbconvert_exporter": "python",
   "pygments_lexer": "ipython3",
   "version": "3.5.2"
  },
  "latex_envs": {
   "LaTeX_envs_menu_present": true,
   "autoclose": false,
   "autocomplete": true,
   "bibliofile": "biblio.bib",
   "cite_by": "apalike",
   "current_citInitial": 1,
   "eqLabelWithNumbers": true,
   "eqNumInitial": 1,
   "hotkeys": {
    "equation": "Ctrl-E",
    "itemize": "Ctrl-I"
   },
   "labels_anchors": false,
   "latex_user_defs": false,
   "report_style_numbering": false,
   "user_envs_cfg": false
  }
 },
 "nbformat": 4,
 "nbformat_minor": 2
}
