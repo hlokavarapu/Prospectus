{
 "cells": [
  {
   "cell_type": "markdown",
   "metadata": {
    "hideOutput": true,
    "slideshow": {
     "slide_type": "slide"
    }
   },
   "source": [
    "# Reservoir modeling of deep carbon cycle\n",
    "## By Harsha Lokavarapu"
   ]
  },
  {
   "cell_type": "markdown",
   "metadata": {
    "slideshow": {
     "slide_type": "skip"
    }
   },
   "source": [
    "## Reservoirs of Carbon\n",
    "\n",
    "<img style=\"float: center;\" src=\"Figures/carbon_reservoirs_and_pathways.svg\">\n",
    "\n",
    "Fig 1. An illustration of Earth's major carbon reservoirs and pathways. \n",
    "\n",
    "The estimated mass of carbon is shown in gigatons (1 Gt = 10$^{12}$ kg). "
   ]
  },
  {
   "cell_type": "markdown",
   "metadata": {
    "slideshow": {
     "slide_type": "skip"
    }
   },
   "source": [
    "# Relative Abundances of Carbon\n",
    "\n",
    "<img style=\"float: center;\" src=\"Figures/relative_size_of_reservoirs.svg\">"
   ]
  },
  {
   "cell_type": "markdown",
   "metadata": {
    "slideshow": {
     "slide_type": "slide"
    }
   },
   "source": [
    "# SNH Carbon Model:\n",
    "\n",
    "<img style=\"float: center;\" src=\"Figures/ModelSNH.png\">\n"
   ]
  },
  {
   "cell_type": "markdown",
   "metadata": {},
   "source": [
    "# Simplified SNH Carbon model\n",
    "\n",
    "<img style=\"float: center;\" src=\"Figures/SimplifiedModelSNH.png\">"
   ]
  },
  {
   "cell_type": "markdown",
   "metadata": {
    "slideshow": {
     "slide_type": "subslide"
    }
   },
   "source": [
    "# Constructed model\n",
    "\n",
    "<img style=\"float: center;\" src=\"Figures/RelabelJaniceFlowDiagram.png\">"
   ]
  },
  {
   "cell_type": "markdown",
   "metadata": {
    "slideshow": {
     "slide_type": "skip"
    }
   },
   "source": [
    "# Carbon reservoir model assumptions\n",
    "\n",
    "- We consider the evolution of carbon since the moon-forming giant impact to present day.\n",
    "\n",
    "- Earth is a closed system. Total mass of carbon remains constant over time.\n",
    "\n",
    "- The core is an isolated reservoir.\n",
    "\n",
    "- Mantle carbon concentration is uniform.\n",
    "\n",
    "- Due to the reduction of rate of plate tectonics, we find that the rate of mass addition decays exponentially with the age of the Earth.\n",
    "\n",
    "\n"
   ]
  },
  {
   "cell_type": "code",
   "execution_count": 2,
   "metadata": {
    "hideCode": true,
    "hidePrompt": true,
    "slideshow": {
     "slide_type": "skip"
    }
   },
   "outputs": [],
   "source": [
    "from ipywidgets import widgets, IntSlider, Label, HBox, VBox, Button, Layout\n",
    "from IPython.display import display\n",
    "\n",
    "import matplotlib.pyplot as plt\n",
    "import numpy as np\n",
    "from sympy.abc import tau\n",
    "from sympy import latex\n",
    "import math\n",
    "\n",
    "from scipy.integrate import odeint\n",
    "from scipy.interpolate import interp1d\n",
    "from scipy.optimize import fsolve\n",
    "\n",
    "import warnings\n",
    "warnings.filterwarnings('ignore')"
   ]
  },
  {
   "cell_type": "code",
   "execution_count": 3,
   "metadata": {
    "hideCode": true,
    "hidePrompt": true,
    "slideshow": {
     "slide_type": "skip"
    }
   },
   "outputs": [],
   "source": [
    "def evolution_of_carbon_mantle(t, T_am, M_cmp, M_cccp, M_ca0):\n",
    "    M_cm = M_cmp + M_cccp - M_ca0 + (M_ca0 - M_cccp)*(1 - np.exp(-t/T_am))\n",
    "    return M_cm\n",
    "\n",
    "def evolution_ccc_initial(t,t_cc0):\n",
    "    M_ccc_initial = np.zeros(t[t<t_cc0].size)\n",
    "    return M_ccc_initial\n",
    "\n",
    "def evolution_of_carbon_continental_crust(t, t_cc0, T_acc, M_cccp):\n",
    "    M_ccc = M_cccp * (1-np.exp(-1 * (t[t>=t_cc0]-t_cc0)/(T_acc)))\n",
    "    return M_ccc\n",
    "\n",
    "def evolution_of_carbon_atmosphere_initial(t, t_cc0, T_ca, M_ca0, M_cccp):\n",
    "    M_ca_initial = M_ca0 - (M_ca0 - M_cccp)*(1 - np.exp(-t[t<t_cc0]/T_ca))\n",
    "    return M_ca_initial\n",
    "\n",
    "def evolution_of_carbon_atmosphere(t, t_cc0, T_acc, T_am, M_cmp, M_cccp, M_ca0):\n",
    "    M_ca = (M_ca0 - M_cccp)*(np.exp(-t[t>=t_cc0]/T_am)) + M_cccp * np.exp(-1 * (t[t>=t_cc0]-t_cc0)/(T_acc))\n",
    "    #M_ca = M_cmp - evolution_of_carbon_mantle(t[t>=t_cc0],T_am, M_cmp, M_cccp, M_ca0) + M_cccp - evolution_of_carbon_continental_crust(t[t>=t_cc0], t_cc0, T_acc, M_cccp)\n",
    "    return M_ca\n",
    "\n",
    "def time(tp):\n",
    "    return np.arange(0,tp,1e6)\n",
    "\n",
    "billion_years = 1e9\n",
    "gigaton = 1e8\n",
    "t = time(4.4e9)"
   ]
  },
  {
   "cell_type": "code",
   "execution_count": 4,
   "metadata": {
    "hideCode": true,
    "hidePrompt": true,
    "slideshow": {
     "slide_type": "skip"
    }
   },
   "outputs": [],
   "source": [
    "def reservoir_model(t, t_cc0, T_am, T_acc, M_cmp, M_cccp, M_ca0):\n",
    "    plt.close('all')\n",
    "#     plt.rc('text', usetex=True)\n",
    "    \n",
    "#     plt.figure(figsize=(8,6))\n",
    "    fig, (ax1) = plt.subplots(nrows=1,ncols=1,figsize=(14,9), sharex=False)\n",
    "        \n",
    "    lw = 4\n",
    "    fz_label=28\n",
    "    fz=26\n",
    "    \n",
    "    M_cm = evolution_of_carbon_mantle(t, T_am, M_cmp, M_cccp, M_ca0)\n",
    "    M_cm_line = ax1.plot(t/billion_years, M_cm/gigaton, linewidth=lw, color='orange')\n",
    "    plt.annotate('Mantle', xy=(0.05, 0.95), xytext=(t[-1]*0.75/billion_years, M_cm[-1]*0.92/gigaton), size=fz)\n",
    "    \n",
    "    M_ccc_initial = evolution_ccc_initial(t, t_cc0)\n",
    "    M_ccc = np.append(M_ccc_initial, evolution_of_carbon_continental_crust(t, t_cc0, T_acc, M_cccp))\n",
    "    M_ccc_line = ax1.plot(t/billion_years, M_ccc/gigaton, linewidth=lw, color='black')\n",
    "    plt.annotate('Continental Crust', xy=(0.05, 0.95), xytext=(t[-1]*0.65/billion_years, M_ccc[-1]*1.20/gigaton), size=fz)\n",
    "\n",
    "    \n",
    "    M_ca_initial = evolution_of_carbon_atmosphere_initial(t, t_cc0, T_am, M_ca0, M_cccp)\n",
    "    M_ca = np.append(M_ca_initial, evolution_of_carbon_atmosphere(t, t_cc0, T_acc, T_am, M_cmp, M_cccp, M_ca0))\n",
    "    M_ca_line = ax1.plot(t/billion_years, M_ca/gigaton, linewidth=lw, color='cyan')\n",
    "    plt.annotate('Atmosphere', xy=(0.05, 0.95), xytext=(t[-1]*0.70/billion_years,(M_ca[-1] + 0.1e8)/gigaton), size=fz)\n",
    "\n",
    "    ax1.set_xlabel('Time ($10^9$ years)', size=fz_label)\n",
    "    ax1.set_ylabel('Mass of Carbon ($10^8$ Gt)', size=fz_label)\n",
    "#     plt.savefig('ModelM-CC.png', format='png')\n",
    "\n",
    "    x_axis_ticks = np.arange(0,6,1)\n",
    "    y_axis_ticks = np.arange(0,2.5,0.5)\n",
    "    x_axis_minor_ticks = np.arange(0,6,0.25)\n",
    "    y_axis_minor_ticks = np.arange(0,2.1,0.1)\n",
    "    ax1.set_xticks(x_axis_ticks)\n",
    "    ax1.set_yticks(y_axis_ticks)\n",
    "    ax1.set_xticks(x_axis_minor_ticks,minor=True)\n",
    "    ax1.set_yticks(y_axis_minor_ticks,minor=True)\n",
    "    ax1.set_xticklabels(x_axis_ticks, fontsize=fz)\n",
    "    ax1.set_yticklabels(y_axis_ticks, fontsize=fz)\n",
    "    ax1.tick_params(which = 'both', direction = 'in')\n",
    "    ax1.grid(which='minor', alpha=0.5)                                                \n",
    "    ax1.grid(which='major', alpha=0.75) \n",
    "    ax1.tick_params(which = 'major', length = 15, width=2, top=True, right=True)\n",
    "    ax1.tick_params(which = 'minor', length = 5, width=2, top=True, right=True)\n",
    "    \n",
    "    plt.xlim([t[0]/billion_years - 0.1,t[-1]/billion_years])\n",
    "    plt.grid()\n",
    "    plt.show()"
   ]
  },
  {
   "cell_type": "markdown",
   "metadata": {
    "slideshow": {
     "slide_type": "skip"
    }
   },
   "source": [
    "## Origin of carbon in the Continental Crust\n",
    "\n",
    "- Wedepohl (1995) give a total carbon mass in the continental crust $^cM_{ccp} = 4.2 \\times 10^7$ Gt.\n",
    "\n",
    "- An atmospheric signature, with a drawdown of carbon due to Urey reaction $\\text{CO}_2 + \\text{CaSiO}_3 \\rightarrow \\text{CaCO}_3 + \\text{SiO}_2$\n",
    "\n",
    "- Alternatively, carbon continental crust extraction due to higher flux of volcanism in comparison to subduction"
   ]
  },
  {
   "cell_type": "markdown",
   "metadata": {
    "hideCode": false,
    "slideshow": {
     "slide_type": "slide"
    }
   },
   "source": [
    "# Reservoir Model (A-CC)\n",
    "\n",
    "- Large mass of carbon in the early atmosphere in analogy to Venus\n",
    "- Extraction of some of this carbon to the continental crust"
   ]
  },
  {
   "cell_type": "code",
   "execution_count": 5,
   "metadata": {
    "hideCode": true,
    "hidePrompt": true,
    "scrolled": false,
    "slideshow": {
     "slide_type": "subslide"
    }
   },
   "outputs": [
    {
     "data": {
      "application/vnd.jupyter.widget-view+json": {
       "model_id": "9b58234b837e445abbcc04e751743742",
       "version_major": 2,
       "version_minor": 0
      },
      "text/html": [
       "<p>Failed to display Jupyter Widget of type <code>HBox</code>.</p>\n",
       "<p>\n",
       "  If you're reading this message in the Jupyter Notebook or JupyterLab Notebook, it may mean\n",
       "  that the widgets JavaScript is still loading. If this message persists, it\n",
       "  likely means that the widgets JavaScript library is either not installed or\n",
       "  not enabled. See the <a href=\"https://ipywidgets.readthedocs.io/en/stable/user_install.html\">Jupyter\n",
       "  Widgets Documentation</a> for setup instructions.\n",
       "</p>\n",
       "<p>\n",
       "  If you're reading this message in another frontend (for example, a static\n",
       "  rendering on GitHub or <a href=\"https://nbviewer.jupyter.org/\">NBViewer</a>),\n",
       "  it may mean that your frontend doesn't currently support widgets.\n",
       "</p>\n"
      ],
      "text/plain": [
       "HBox(children=(VBox(children=(FloatSlider(value=500000000.0, description='$\\\\Large{t_{cc0}}$', max=2000000000.0, min=500000000.0, readout_format='.3g', step=100000000.0, style=SliderStyle(handle_color='red')), FloatSlider(value=20000000.0, description='$\\\\Large{\\\\tau_{am}}$', max=1000000000.0, min=10000000.0, readout_format='.3g', step=10000000.0, style=SliderStyle(handle_color='red')), FloatSlider(value=1000000000.0, description='$\\\\Large{\\\\tau_{acc}}$', max=2000000000.0, min=500000000.0, readout_format='.3g', step=100000000.0, style=SliderStyle(handle_color='red')))), VBox(children=(FloatSlider(value=200000000.0, description='$\\\\Large{M_{cmp}}$', max=300000000.0, min=100000000.0, readout_format='.3g', step=10000000.0, style=SliderStyle(handle_color='red')), FloatSlider(value=42000000.0, description='$\\\\Large{M_{cccp}}$', max=60000000.0, readout_format='.3g', step=1000000.0, style=SliderStyle(handle_color='red')), FloatSlider(value=157000000.0, description='$\\\\Large{M_{ca0}}$', max=200000000.0, min=30000000.0, readout_format='.3g', step=10000000.0, style=SliderStyle(handle_color='red')))), Button(description='$\\\\infty$', style=ButtonStyle())))"
      ]
     },
     "metadata": {},
     "output_type": "display_data"
    },
    {
     "data": {
      "application/vnd.jupyter.widget-view+json": {
       "model_id": "de4d2c95c9ed4b4bb9ca9c45701a7aa2",
       "version_major": 2,
       "version_minor": 0
      },
      "text/html": [
       "<p>Failed to display Jupyter Widget of type <code>Output</code>.</p>\n",
       "<p>\n",
       "  If you're reading this message in the Jupyter Notebook or JupyterLab Notebook, it may mean\n",
       "  that the widgets JavaScript is still loading. If this message persists, it\n",
       "  likely means that the widgets JavaScript library is either not installed or\n",
       "  not enabled. See the <a href=\"https://ipywidgets.readthedocs.io/en/stable/user_install.html\">Jupyter\n",
       "  Widgets Documentation</a> for setup instructions.\n",
       "</p>\n",
       "<p>\n",
       "  If you're reading this message in another frontend (for example, a static\n",
       "  rendering on GitHub or <a href=\"https://nbviewer.jupyter.org/\">NBViewer</a>),\n",
       "  it may mean that your frontend doesn't currently support widgets.\n",
       "</p>\n"
      ],
      "text/plain": [
       "Output()"
      ]
     },
     "metadata": {},
     "output_type": "display_data"
    }
   ],
   "source": [
    "style = {'handle_color': 'red', 'readout_color': 'red', 'slider_color': 'red'}\n",
    "\n",
    "M_ca0_widget = widgets.FloatSlider(min=3e7,max=2e8,step=1e7,value=1.57e8, description=\"$\\Large{M_{ca0}}$\", readout_format=\".3g\", style=style)\n",
    "M_cmp_widget = widgets.FloatSlider(min=1e8,max=3e8,step=1e7,value=2e8, description=\"$\\Large{M_{cmp}}$\", readout_format=\".3g\", style=style)\n",
    "M_cccp_widget = widgets.FloatSlider(min=0,max=6e7,step=1e6,value=4.2e7, description=\"$\\Large{M_{cccp}}$\", readout_format=\".3g\", style=style)\n",
    "t_cc0_widget = widgets.FloatSlider(min=0.5e9,max=2e9,step=1e8,value=0.5e9, description=\"$\\Large{t_{cc0}}$\", readout_format=\".3g\", style=style)\n",
    "T_am_widget = widgets.FloatSlider(min=1e7,max=1e9,step=1e7,value=2e7, description=\"$\\Large{\"+latex(tau)+\"_{am}}$\", readout_format=\".3g\", style=style)\n",
    "T_acc_widget = widgets.FloatSlider(min=0.5e9,max=2e9,step=1e8,value=1e9, description=\"$\\Large{\"+latex(tau)+\"_{acc}}$\", readout_format=\".3g\", style=style)\n",
    "\n",
    "def reset_values(b):\n",
    "    w.children[0].value = 0.5e9\n",
    "    w.children[1].value = 2e7\n",
    "    w.children[2].value = 1e9\n",
    "    w.children[3].value = 2e8\n",
    "    w.children[4].value = 4.2e7\n",
    "    w.children[5].value = 1.57e8\n",
    "#     w.children[6].value = 1.57e8\n",
    "    \n",
    "refresh_widget = widgets.Button(description=r'$\\infty$',)\n",
    "refresh_widget.on_click(reset_values)\n",
    "\n",
    "w = widgets.interactive(reservoir_model,\n",
    "                        t = widgets.fixed(t),\n",
    "                        t_cc0 = t_cc0_widget,\n",
    "                        T_am = T_am_widget,                        \n",
    "                        T_acc = T_acc_widget,\n",
    "                        M_cmp = M_cmp_widget,\n",
    "                        M_cccp = M_cccp_widget,\n",
    "                        M_ca0 = M_ca0_widget)\n",
    "\n",
    "display(HBox([VBox(w.children[0:3]), VBox(w.children[3:6]), refresh_widget]))#Show all controls\n",
    "display(w.children[-1]) #Show the output"
   ]
  },
  {
   "cell_type": "markdown",
   "metadata": {
    "slideshow": {
     "slide_type": "slide"
    }
   },
   "source": [
    "# Reservoir Model (M-CC)\n",
    "\n",
    "- Extraction of carbon from the mantle to the continental crust.\n"
   ]
  },
  {
   "cell_type": "code",
   "execution_count": 6,
   "metadata": {
    "hideCode": true,
    "hidePrompt": true,
    "slideshow": {
     "slide_type": "skip"
    }
   },
   "outputs": [],
   "source": [
    "def plot_model_M_CC(t, solution):\n",
    "    plt.rc('text', usetex=True)\n",
    "    \n",
    "    fig, (ax1, ax2, ax3) = plt.subplots(nrows=3,ncols=1,figsize=(14,18), sharex=False)\n",
    "    \n",
    "    ax1.plot(t, solution[:,0], label='Atmosphere')\n",
    "    ax1.plot(t, solution[:,1], label='Continental Crust')\n",
    "    ax1.plot(t, solution[:,2], label='Mantle')\n",
    "    \n",
    "    ax1.set_xlabel(r't (Gyr)', fontsize='xx-large')\n",
    "    ax1.set_ylabel(r'$^cM \\times 10^8$ Gt', fontsize='xx-large')\n",
    "    ax1.set_yticklabels([0.0, 0.0, 0.5, 1.0, 1.5, 2.0, 2.5], fontsize='xx-large')\n",
    "    for label in ax1.get_xticklabels()[1::2]:\n",
    "        label.set_visible(False)\n",
    "    for label in ax1.get_xticklabels()[::2]:\n",
    "        label.set_fontsize('xx-large')   \n",
    "    ax1.legend(loc='center left', ncol=1, fancybox=True, shadow=True, fontsize='xx-large')\n",
    "    ax1.grid()\n",
    "    \n",
    "    ax2.plot(t, solution[:,0], label='Atmosphere')\n",
    "    ax2.set_xlabel(r't (Gyr)', fontsize='xx-large')\n",
    "    ax2.set_ylabel(r'$^cM$ Gt', fontsize='xx-large')\n",
    "    \n",
    "    for label in ax2.get_xticklabels()[::2]:\n",
    "        label.set_visible(False)\n",
    "    for label in ax2.get_xticklabels()[1::2]:\n",
    "        label.set_fontsize('xx-large')\n",
    "    for label in ax2.get_yticklabels()[::2]:\n",
    "        label.set_visible(False)\n",
    "    for label in ax2.get_yticklabels()[1::2]:\n",
    "        label.set_fontsize('xx-large')    \n",
    "    ax2.set_xlim([0.5,4.4])\n",
    "    ax2.set_ylim([0,8000])\n",
    "    ax2.legend(loc='center right', ncol=1, fancybox=True, shadow=True, fontsize='xx-large')\n",
    "    ax2.grid()\n",
    "    \n",
    "    ax3.plot(t, solution[:,0], label='Atmosphere')\n",
    "    ax3.set_xlabel(r't $+ \\,0.5$ Gyr', fontsize='xx-large')\n",
    "    ax3.set_xticklabels([0, '25,000', '50,000', '75,000', '100,000', '125,000', '150,000', '175,000', '200,000'], fontsize='xx-large')\n",
    "    ax3.set_ylabel(r'$^cM$ Gt', fontsize='xx-large')\n",
    "    for label in ax3.get_xticklabels()[1::2]:\n",
    "        label.set_visible(False)\n",
    "    for label in ax3.get_yticklabels()[::2]:\n",
    "        label.set_visible(False)\n",
    "    for label in ax3.get_yticklabels()[1::2]:\n",
    "        label.set_fontsize('xx-large')    \n",
    "    ax3.legend(loc='center right', ncol=1, fancybox=True, shadow=True, fontsize='xx-large')\n",
    "    ax3.set_xlim([0.5,0.502])\n",
    "    ax3.set_ylim([0,8000])\n",
    "    ax3.grid()\n",
    "    \n",
    "    plt.show()"
   ]
  },
  {
   "cell_type": "code",
   "execution_count": 7,
   "metadata": {
    "hideCode": true,
    "hidePrompt": true,
    "slideshow": {
     "slide_type": "subslide"
    }
   },
   "outputs": [
    {
     "data": {
      "application/vnd.jupyter.widget-view+json": {
       "model_id": "c708223b2d4345458091c0a5400e6f48",
       "version_major": 2,
       "version_minor": 0
      },
      "text/html": [
       "<p>Failed to display Jupyter Widget of type <code>interactive</code>.</p>\n",
       "<p>\n",
       "  If you're reading this message in the Jupyter Notebook or JupyterLab Notebook, it may mean\n",
       "  that the widgets JavaScript is still loading. If this message persists, it\n",
       "  likely means that the widgets JavaScript library is either not installed or\n",
       "  not enabled. See the <a href=\"https://ipywidgets.readthedocs.io/en/stable/user_install.html\">Jupyter\n",
       "  Widgets Documentation</a> for setup instructions.\n",
       "</p>\n",
       "<p>\n",
       "  If you're reading this message in another frontend (for example, a static\n",
       "  rendering on GitHub or <a href=\"https://nbviewer.jupyter.org/\">NBViewer</a>),\n",
       "  it may mean that your frontend doesn't currently support widgets.\n",
       "</p>\n"
      ],
      "text/plain": [
       "interactive(children=(FloatSlider(value=100.0, description='\\\\(\\\\tau_{a-cc}\\\\) (kyr)', layout=Layout(width='75%'), max=200.0, min=10.0, readout_format='.0f', step=10.0, style=SliderStyle(handle_color='red')), FloatSlider(value=5.43, description='\\\\({^cJ_{m\\\\,a}}(t_p),{^cJ_{cc\\\\,a}}(t_p)={^cJ_{cc\\\\,a}}(t_p) \\\\) (Mt/yr)', layout=Layout(width='75%'), max=10.0, min=1.0, readout_format='.3g', step=0.5, style=SliderStyle(description_width='initial', handle_color='red')), Output()), _dom_classes=('widget-interact',))"
      ]
     },
     "metadata": {},
     "output_type": "display_data"
    }
   ],
   "source": [
    "def g(y, t, params):\n",
    "    cMa, cMcc, cMm = y\n",
    "    t_1, t_p, tf, tau_1, cMmp, cJmap, cMccp, cJccap = params\n",
    "\n",
    "    #cMa, cMcc, cMm\n",
    "    derivs = [(cMm/cMmp)*cJmap*np.exp((t_p - t)/tf) - cMa/tau_1 + (cMcc/cMccp)*cJccap*np.exp((t_p - t)/tf),\n",
    "              cMa/tau_1 - (cMcc/cMccp)*cJccap*np.exp((t_p - t)/tf),\n",
    "              -(cMm/cMmp)*cJmap*np.exp((t_p-t)/tf)]\n",
    "    \n",
    "    return derivs\n",
    "\n",
    "def assemble_solve_ode(tau_1, cJmap_cJccap_cJccccp):\n",
    "    # Parameters\n",
    "    t_1 = 0.5 #Gyr\n",
    "    t_p = 4.4  #Gyr\n",
    "\n",
    "    #Updated tau_acc = tau_1 = 1e5\n",
    "    # input is in kyr, thus\n",
    "    tau_1 = tau_1/1e6 #Gyr\n",
    "    \n",
    "    tf = 3.61 #Gyr\n",
    "    ts = 1e5\n",
    "\n",
    "    # Updated\n",
    "    cMmp = 2.0e8 #Gt\n",
    "    # Updated\n",
    "    cMccp = 4.2e7 #Gt\n",
    "    \n",
    "    # Updated\n",
    "    cJmap = (cJmap_cJccap_cJccccp/1000)*1e9 #Gt/Gyr\n",
    "    cJccmp = 0 #Gt/Gyr\n",
    "    cJccap = (cJmap_cJccap_cJccccp/1000)*1e9 #Gt/Gyr\n",
    "    cJmmp = (30.57/1000)*1e9 #Gt/Gyr\n",
    "\n",
    "    # Initial values at time t1\n",
    "    cMa0 = 0\n",
    "    cMcc0 = 0\n",
    "    cMm0 = 2.42e8 #Gt\n",
    "\n",
    "    # Bundle parameters for ODE solver\n",
    "    params = [t_1, t_p, tf, tau_1, cMmp, cJmap, cMccp, cJccap]\n",
    "    \n",
    "    # Bundle initial conditions for ODE solver\n",
    "    y0 = [cMa0, cMcc0, cMm0]\n",
    "\n",
    "    t = np.linspace(t_1,t_p,ts)\n",
    "\n",
    "    solution = odeint(g, y0, t, args=(params,))\n",
    "    \n",
    "    plot_model_M_CC(t, solution)\n",
    "\n",
    "style = {'handle_color': 'red', 'readout_color': 'red', 'slider_color': 'red'}\n",
    "tau_1_widget = widgets.FloatSlider(min=10,max=200,step=10,value=100, \n",
    "                                   description=r'\\(\\tau_{a-cc}\\) (kyr)', \n",
    "                                   readout_format=\".0f\",\n",
    "                                  layout=Layout(width='75%',),\n",
    "                                  style=style)\n",
    "style2 = {'handle_color': 'red', 'readout_color': 'red', 'slider_color': 'red', 'description_width': 'initial'}\n",
    "cJmap_cJccap_cJccccp_widget = widgets.FloatSlider(min=1,max=10,step=.5,value=5.43, \n",
    "                                                  description=r'\\({^cJ_{m\\,a}}(t_p),{^cJ_{cc\\,a}}(t_p)={^cJ_{cc\\,a}}(t_p) \\) (Mt/yr)', \n",
    "                                                  readout_format=\".3g\",\n",
    "                                                 layout=Layout(width='75%'),\n",
    "                                                 style=style2,\n",
    "                                                 )\n",
    "w = widgets.interactive(assemble_solve_ode,\n",
    "                        tau_1 = tau_1_widget,\n",
    "                        cJmap_cJccap_cJccccp = cJmap_cJccap_cJccccp_widget)\n",
    "\n",
    "display(w) \n",
    "\n"
   ]
  },
  {
   "cell_type": "markdown",
   "metadata": {
    "slideshow": {
     "slide_type": "skip"
    }
   },
   "source": [
    "Pointers for M-CC model:\n",
    "- There is no subduction is this model. No addition of carbon to mantle.\n",
    "- Forces at play include Urey reaction, OIB and MORB volcanism"
   ]
  },
  {
   "cell_type": "markdown",
   "metadata": {
    "slideshow": {
     "slide_type": "slide"
    }
   },
   "source": [
    "# Justification of Urey reaction rate constant"
   ]
  },
  {
   "cell_type": "markdown",
   "metadata": {
    "slideshow": {
     "slide_type": "subslide"
    }
   },
   "source": [
    "<img style=\"float: center;\" src=\"Figures/FigurePETM-A.png\">\n",
    "<img style=\"float: center;\" src=\"Figures/FigurePETM-B.png\">"
   ]
  },
  {
   "cell_type": "markdown",
   "metadata": {
    "slideshow": {
     "slide_type": "skip"
    }
   },
   "source": [
    "# Future Work\n",
    "\n",
    "- Combine models \n",
    "- Breakup the mantle into several reservoirs \n",
    "- Consider MORB and OIB volcanism seperately\n"
   ]
  },
  {
   "cell_type": "markdown",
   "metadata": {
    "slideshow": {
     "slide_type": "skip"
    }
   },
   "source": [
    "# Thank You."
   ]
  },
  {
   "cell_type": "markdown",
   "metadata": {
    "slideshow": {
     "slide_type": "skip"
    }
   },
   "source": [
    "# Items to add:\n",
    "\n",
    "- Comparison of SNH model and Our own model\n",
    "- Brief description of solver\n",
    "- Alternative derivation of flux vectors, Ax=b\n",
    "- Understand the implications of A-CC, and M-CC model parameters and all of the ins and outs\n",
    "\n"
   ]
  },
  {
   "cell_type": "markdown",
   "metadata": {},
   "source": [
    "# REmaining TODO list:\n",
    "\n",
    "- read all three papers in CARBON UCD\n",
    "- read SNH paper\n",
    "- read paper that dawn sent/??\n",
    "- digest PETM paper\n",
    "- print/fill cover sheet"
   ]
  },
  {
   "cell_type": "code",
   "execution_count": null,
   "metadata": {},
   "outputs": [],
   "source": []
  }
 ],
 "metadata": {
  "celltoolbar": "Slideshow",
  "kernelspec": {
   "display_name": "Python 3",
   "language": "python",
   "name": "python3"
  },
  "language_info": {
   "codemirror_mode": {
    "name": "ipython",
    "version": 3
   },
   "file_extension": ".py",
   "mimetype": "text/x-python",
   "name": "python",
   "nbconvert_exporter": "python",
   "pygments_lexer": "ipython3",
   "version": "3.5.2"
  },
  "latex_envs": {
   "LaTeX_envs_menu_present": true,
   "autoclose": false,
   "autocomplete": true,
   "bibliofile": "biblio.bib",
   "cite_by": "apalike",
   "current_citInitial": 1,
   "eqLabelWithNumbers": true,
   "eqNumInitial": 1,
   "hotkeys": {
    "equation": "Ctrl-E",
    "itemize": "Ctrl-I"
   },
   "labels_anchors": false,
   "latex_user_defs": false,
   "report_style_numbering": false,
   "user_envs_cfg": false
  }
 },
 "nbformat": 4,
 "nbformat_minor": 2
}
